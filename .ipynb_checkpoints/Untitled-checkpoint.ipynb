{
 "cells": [
  {
   "cell_type": "code",
   "execution_count": 1,
   "metadata": {},
   "outputs": [],
   "source": [
    "import numpy as np\n",
    "import pandas as pd"
   ]
  },
  {
   "cell_type": "code",
   "execution_count": 2,
   "metadata": {},
   "outputs": [],
   "source": [
    "x1, x2, x3, x4, x5, y = [], [], [], [], [], []\n",
    "for i in range(4):\n",
    "    for j in range(4):\n",
    "        for k in range(8):\n",
    "            for l in range(8):\n",
    "                for m in range(40):\n",
    "                    x1.append(i)\n",
    "                    x2.append(j)\n",
    "                    x3.append(k)\n",
    "                    x4.append(l)\n",
    "                    x5.append(m)\n",
    "                    y.append(\n",
    "                        2*(i**2) + 0.5*j + 3*(k**2) + 3*np.log(l + 1) + 10*np.sin(0.5*m) + np.random.randint(10)\n",
    "                    )"
   ]
  },
  {
   "cell_type": "code",
   "execution_count": 3,
   "metadata": {},
   "outputs": [],
   "source": [
    "data = {\n",
    "    'x1': x1,\n",
    "    'x2': x2,\n",
    "    'x3': x3,\n",
    "    'x4': x4,\n",
    "    'x5': x5,\n",
    "    'y': y\n",
    "}\n",
    "df = pd.DataFrame(data)\n",
    "df.to_csv('dummy.csv', index=False)"
   ]
  },
  {
   "cell_type": "code",
   "execution_count": null,
   "metadata": {},
   "outputs": [],
   "source": []
  }
 ],
 "metadata": {
  "kernelspec": {
   "display_name": "Python 3",
   "language": "python",
   "name": "python3"
  },
  "language_info": {
   "codemirror_mode": {
    "name": "ipython",
    "version": 3
   },
   "file_extension": ".py",
   "mimetype": "text/x-python",
   "name": "python",
   "nbconvert_exporter": "python",
   "pygments_lexer": "ipython3",
   "version": "3.7.6"
  }
 },
 "nbformat": 4,
 "nbformat_minor": 4
}
